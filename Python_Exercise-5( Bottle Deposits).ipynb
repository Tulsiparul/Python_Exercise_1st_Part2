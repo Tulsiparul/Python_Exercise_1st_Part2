{
 "cells": [
  {
   "cell_type": "code",
   "execution_count": 1,
   "id": "f77e5a92",
   "metadata": {},
   "outputs": [],
   "source": [
    "###Compute the refund amount for a collection of bottle\n",
    "\n",
    "LESS_DEPOSITE = 0.10\n",
    "MORE_DEPOSITE = 0.25"
   ]
  },
  {
   "cell_type": "code",
   "execution_count": 2,
   "id": "7d891a16",
   "metadata": {},
   "outputs": [
    {
     "name": "stdout",
     "output_type": "stream",
     "text": [
      "How many less container 1 liters or less do you have? 5\n",
      "How many container more than 1 liters do you have? 4\n"
     ]
    }
   ],
   "source": [
    "## Read input from the user\n",
    "\n",
    "less = int(input(\"How many less container 1 liters or less do you have? \"))\n",
    "\n",
    "more = int(input(\"How many container more than 1 liters do you have? \"))"
   ]
  },
  {
   "cell_type": "code",
   "execution_count": 3,
   "id": "17c8564e",
   "metadata": {},
   "outputs": [],
   "source": [
    "## Compute the refund amount\n",
    "\n",
    "refund = less * LESS_DEPOSITE + more * MORE_DEPOSITE"
   ]
  },
  {
   "cell_type": "code",
   "execution_count": 5,
   "id": "463ef53f",
   "metadata": {},
   "outputs": [
    {
     "name": "stdout",
     "output_type": "stream",
     "text": [
      "Your total refund will be $1.50.\n"
     ]
    }
   ],
   "source": [
    "## Display the result\n",
    "\n",
    "print(\"Your total refund will be $%.2f.\" % refund)"
   ]
  },
  {
   "cell_type": "code",
   "execution_count": null,
   "id": "5d544c63",
   "metadata": {},
   "outputs": [],
   "source": []
  }
 ],
 "metadata": {
  "kernelspec": {
   "display_name": "Python 3",
   "language": "python",
   "name": "python3"
  },
  "language_info": {
   "codemirror_mode": {
    "name": "ipython",
    "version": 3
   },
   "file_extension": ".py",
   "mimetype": "text/x-python",
   "name": "python",
   "nbconvert_exporter": "python",
   "pygments_lexer": "ipython3",
   "version": "3.8.8"
  }
 },
 "nbformat": 4,
 "nbformat_minor": 5
}
