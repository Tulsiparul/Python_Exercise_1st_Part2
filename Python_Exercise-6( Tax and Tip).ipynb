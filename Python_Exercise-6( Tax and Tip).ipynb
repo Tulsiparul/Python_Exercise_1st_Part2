{
 "cells": [
  {
   "cell_type": "code",
   "execution_count": 20,
   "id": "1ea4ad95",
   "metadata": {},
   "outputs": [],
   "source": [
    "### Compute the Tax and Tip for a Retaurant\n",
    "\n",
    "TAX_RATE = 0.05    ### My Local rate is 5% and In python we represent 5% and 18% as 0.05 and 0.18 respectively\n",
    "TIP_RATE = 0.18"
   ]
  },
  {
   "cell_type": "code",
   "execution_count": 21,
   "id": "c56c30e5",
   "metadata": {},
   "outputs": [
    {
     "name": "stdout",
     "output_type": "stream",
     "text": [
      "Enter the cost of the meal:78\n"
     ]
    }
   ],
   "source": [
    "cost = float(input(\"Enter the cost of the meal:\"))"
   ]
  },
  {
   "cell_type": "code",
   "execution_count": 22,
   "id": "e4f3b319",
   "metadata": {},
   "outputs": [],
   "source": [
    "### Compute the Tax and Tip\n",
    "\n",
    "tax = cost * TAX_RATE\n",
    "\n",
    "tip = cost * TIP_RATE"
   ]
  },
  {
   "cell_type": "code",
   "execution_count": 31,
   "id": "a59b2fbc",
   "metadata": {},
   "outputs": [],
   "source": [
    "total = cost + tax + tip"
   ]
  },
  {
   "cell_type": "code",
   "execution_count": 30,
   "id": "ebff7ea8",
   "metadata": {},
   "outputs": [
    {
     "ename": "SyntaxError",
     "evalue": "unexpected character after line continuation character (<ipython-input-30-45be2ef35513>, line 2)",
     "output_type": "error",
     "traceback": [
      "\u001b[1;36m  File \u001b[1;32m\"<ipython-input-30-45be2ef35513>\"\u001b[1;36m, line \u001b[1;32m2\u001b[0m\n\u001b[1;33m    print(\"The tax is %.2f and the tip is %.2f, making the total %.2f\" % \\ (tax, tip, total))\u001b[0m\n\u001b[1;37m                                                                                             ^\u001b[0m\n\u001b[1;31mSyntaxError\u001b[0m\u001b[1;31m:\u001b[0m unexpected character after line continuation character\n"
     ]
    }
   ],
   "source": [
    "## Display the result\n",
    "print(\"The tax is %.2f and the tip is %.2f, making the total %.2f\" % \\ (tax, tip, total))\n"
   ]
  },
  {
   "cell_type": "code",
   "execution_count": null,
   "id": "65cf891e",
   "metadata": {},
   "outputs": [],
   "source": []
  }
 ],
 "metadata": {
  "kernelspec": {
   "display_name": "Python 3",
   "language": "python",
   "name": "python3"
  },
  "language_info": {
   "codemirror_mode": {
    "name": "ipython",
    "version": 3
   },
   "file_extension": ".py",
   "mimetype": "text/x-python",
   "name": "python",
   "nbconvert_exporter": "python",
   "pygments_lexer": "ipython3",
   "version": "3.8.8"
  }
 },
 "nbformat": 4,
 "nbformat_minor": 5
}
