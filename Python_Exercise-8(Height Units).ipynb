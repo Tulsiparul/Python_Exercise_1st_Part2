{
 "cells": [
  {
   "cell_type": "code",
   "execution_count": 1,
   "id": "3869a9fb",
   "metadata": {},
   "outputs": [],
   "source": [
    "#### Convert the height in feet and inches to centimeters\n",
    "\n",
    "IN_PER_FT = 12\n",
    "CM_PER_IN = 2.54"
   ]
  },
  {
   "cell_type": "code",
   "execution_count": 3,
   "id": "576e8555",
   "metadata": {},
   "outputs": [
    {
     "name": "stdout",
     "output_type": "stream",
     "text": [
      "Enter your height :\n",
      "Number of feet :42\n",
      "Number of inches :45\n"
     ]
    }
   ],
   "source": [
    "#### Read input from the user\n",
    "\n",
    "print(\"Enter your height :\")\n",
    "feet = int(input(\"Number of feet :\"))\n",
    "inches = int(input(\"Number of inches :\"))\n",
    "\n"
   ]
  },
  {
   "cell_type": "code",
   "execution_count": 4,
   "id": "e08adb73",
   "metadata": {},
   "outputs": [],
   "source": [
    "cm = (feet * IN_PER_FT + inches) * CM_PER_IN"
   ]
  },
  {
   "cell_type": "code",
   "execution_count": 7,
   "id": "821484d2",
   "metadata": {},
   "outputs": [
    {
     "name": "stdout",
     "output_type": "stream",
     "text": [
      "Your Height in Centemeters is : 1394.46\n"
     ]
    }
   ],
   "source": [
    "print(\"Your Height in Centemeters is :\", cm)"
   ]
  },
  {
   "cell_type": "code",
   "execution_count": null,
   "id": "95c93b74",
   "metadata": {},
   "outputs": [],
   "source": []
  }
 ],
 "metadata": {
  "kernelspec": {
   "display_name": "Python 3",
   "language": "python",
   "name": "python3"
  },
  "language_info": {
   "codemirror_mode": {
    "name": "ipython",
    "version": 3
   },
   "file_extension": ".py",
   "mimetype": "text/x-python",
   "name": "python",
   "nbconvert_exporter": "python",
   "pygments_lexer": "ipython3",
   "version": "3.8.8"
  }
 },
 "nbformat": 4,
 "nbformat_minor": 5
}
