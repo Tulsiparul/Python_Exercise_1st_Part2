{
 "cells": [
  {
   "cell_type": "code",
   "execution_count": null,
   "id": "72d93d86",
   "metadata": {},
   "outputs": [],
   "source": [
    "### Compute the sum of the first n positive number\n"
   ]
  },
  {
   "cell_type": "code",
   "execution_count": 1,
   "id": "df70a4b2",
   "metadata": {},
   "outputs": [
    {
     "name": "stdout",
     "output_type": "stream",
     "text": [
      "Inter a Positive Number : 58\n"
     ]
    }
   ],
   "source": [
    "### Read input from the user\n",
    "\n",
    "n = int(input(\"Inter a Positive Number : \"))"
   ]
  },
  {
   "cell_type": "code",
   "execution_count": 2,
   "id": "5a462af4",
   "metadata": {},
   "outputs": [],
   "source": [
    "## Compute the Sum\n",
    "\n",
    "sum = n * (n + 1)/ 2"
   ]
  },
  {
   "cell_type": "code",
   "execution_count": 3,
   "id": "64b597f1",
   "metadata": {},
   "outputs": [
    {
     "name": "stdout",
     "output_type": "stream",
     "text": [
      "The sum of the first 58 Positive Number is 1711.0\n"
     ]
    }
   ],
   "source": [
    "print(\"The sum of the first\", n,\"Positive Number is\", sum)"
   ]
  },
  {
   "cell_type": "code",
   "execution_count": null,
   "id": "1aec64d7",
   "metadata": {},
   "outputs": [],
   "source": []
  }
 ],
 "metadata": {
  "kernelspec": {
   "display_name": "Python 3",
   "language": "python",
   "name": "python3"
  },
  "language_info": {
   "codemirror_mode": {
    "name": "ipython",
    "version": 3
   },
   "file_extension": ".py",
   "mimetype": "text/x-python",
   "name": "python",
   "nbconvert_exporter": "python",
   "pygments_lexer": "ipython3",
   "version": "3.8.8"
  }
 },
 "nbformat": 4,
 "nbformat_minor": 5
}
